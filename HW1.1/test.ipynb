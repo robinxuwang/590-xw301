{
 "cells": [
  {
   "cell_type": "code",
   "execution_count": 1,
   "metadata": {},
   "outputs": [],
   "source": [
    "import pandas as pd\n",
    "from sklearn.model_selection import train_test_split\n",
    "from scipy.optimize import minimize\n",
    "import matplotlib.pyplot as plt\n",
    "import numpy as np"
   ]
  },
  {
   "cell_type": "code",
   "execution_count": null,
   "metadata": {},
   "outputs": [],
   "source": [
    "class Data:\n",
    "    # class variable shared by all instances\n",
    "    df = pd.read_json('weight.json')\n",
    "    df_lr = df[df['x']<18]\n",
    "    x_mean_lr = np.mean(df_lr['x'])\n",
    "    y_mean_lr = np.mean(df_lr['y'])\n",
    "    x_std_lr = np.std(df_lr['x'])\n",
    "    y_std_lr = np.std(df_lr['y'])\n",
    "\n",
    "    #INITIALIZE\n",
    "    def __init__(self, attributions):\n",
    "        self.name = attributions[0]      # instance variable unique to each instance\n",
    "        self.weight = attributions[1]    \n",
    "\n",
    "    def norm(x, y):    \n",
    "        x_mean = np.mean(x)\n",
    "        y_mean = np.mean(y)\n",
    "        x_std = np.std(x)\n",
    "        y_std = np.std(y)    \n",
    "        x_norm = (x - x_mean)/x_std\n",
    "        y_norm = (y - y_mean)/y_std    \n",
    "        return x_norm, y_norm\n",
    "    \n",
    "    def split_lr(x,y):    \n",
    "        x_train, x_test, y_train, y_test = train_test_split(x, y, test_size = 0.2)\n",
    "        return x_train,x_test,y_train,y_test\n",
    "    \n",
    "    def loss(p):\n",
    "        weight = p[0]\n",
    "        bias = p[1]\n",
    "        global X, Y    \n",
    "        loss = []    \n",
    "        preds = weight * X + bias   \n",
    "        for pred, y in zip(preds, Y):\n",
    "            loss.append((pred - y) ** 2)\n",
    "        mse = sum(loss) / len(X)\n",
    "        return mse\n",
    "\n",
    "    def optimize():\n",
    "        #TRAIN MODEL USING SCIPY OPTIMIZER\n",
    "        res = minimize(loss, [0,0], method='Nelder-Mead', tol=1e-15)\n",
    "        popt=res.x\n",
    "        #print(\"OPTIMAL PARAM:\",popt)        \n",
    "        x_de_norm = x_train_norm*x_std_lr +x_mean_lr\n",
    "        yp_de_norm = x_de_norm*popt[0] +popt[1]\n",
    "        plt.scatter(x_train, y_train)\n",
    "        plt.plot(x_de_norm, yp_de_norm, color='r')\n",
    "        plt.show()\n",
    "        return popt"
   ]
  },
  {
   "cell_type": "code",
   "execution_count": 12,
   "metadata": {},
   "outputs": [],
   "source": [
    "df = pd.read_json('weight.json')\n",
    "df_lr = df[df['x']<18]\n",
    "X = np.array(df_lr['x'])\n",
    "Y = np.array(df['y'])"
   ]
  },
  {
   "cell_type": "code",
   "execution_count": 34,
   "metadata": {},
   "outputs": [],
   "source": [
    "def loss(p):\n",
    "    weight = p[0]\n",
    "    bias = p[1]\n",
    "    global X, Y    \n",
    "    loss = []    \n",
    "    preds = weight * X + bias   \n",
    "    for pred, y in zip(preds, Y):\n",
    "        loss.append((pred - y) ** 2)\n",
    "    mse = sum(loss) / len(X)\n",
    "    return mse\n",
    "\n",
    "def optimize():\n",
    "    #TRAIN MODEL USING SCIPY OPTIMIZER\n",
    "    res = minimize(loss, [0,0], method='Nelder-Mead', tol=1e-15)\n",
    "    popt=res.x\n",
    "    #print(\"OPTIMAL PARAM:\",popt)\n",
    "    \n",
    "    x_de_norm = x_train_norm*x_std_lr +x_mean_lr\n",
    "    yp_de_norm = x_de_norm*popt[0] +popt[1]\n",
    "    plt.scatter(x_train, y_train)\n",
    "    plt.plot(x_de_norm, yp_de_norm, color='r')\n",
    "    plt.show()\n",
    "    return popt"
   ]
  },
  {
   "cell_type": "code",
   "execution_count": 35,
   "metadata": {},
   "outputs": [
    {
     "name": "stdout",
     "output_type": "stream",
     "text": [
      "(31,)\n",
      "(31,)\n"
     ]
    }
   ],
   "source": [
    "\n",
    "x_train, x_test, y_train, y_test = split_lr(X, Y)\n",
    "x_train_norm, y_train_norm = norm(x_train, y_train)\n",
    "\n",
    "print(x_train_norm.shape)\n",
    "print(y_train_norm.shape)"
   ]
  },
  {
   "cell_type": "code",
   "execution_count": 36,
   "metadata": {},
   "outputs": [],
   "source": [
    "x_mean_lr = np.mean(df_lr['x'])\n",
    "y_mean_lr = np.mean(df_lr['y'])\n",
    "x_std_lr = np.std(df_lr['x'])\n",
    "y_std_lr = np.std(df_lr['y'])"
   ]
  },
  {
   "cell_type": "code",
   "execution_count": 37,
   "metadata": {},
   "outputs": [
    {
     "data": {
      "image/png": "[encoded data removed]",
      "text/plain": [
       "<Figure size 432x288 with 1 Axes>"
      ]
     },
     "metadata": {
      "needs_background": "light"
     },
     "output_type": "display_data"
    },
    {
     "data": {
      "text/plain": [
       "array([ 8.87606127, -1.63126005])"
      ]
     },
     "execution_count": 37,
     "metadata": {},
     "output_type": "execute_result"
    }
   ],
   "source": [
    "optimize()"
   ]
  },
  {
   "cell_type": "code",
   "execution_count": 22,
   "metadata": {},
   "outputs": [],
   "source": [
    "\n",
    "def loss(p):\n",
    "    weight = p[0]\n",
    "    bias = p[1]\n",
    "    global X, Y    \n",
    "    loss = []    \n",
    "    preds = weight * X + bias   \n",
    "    for pred, y in zip(preds, Y):\n",
    "        loss.append((pred - y) ** 2)\n",
    "    mse = sum(loss) / len(X)\n",
    "    return mse\n",
    "def opt():\n",
    "    #TRAIN MODEL USING SCIPY OPTIMIZER\n",
    "    res = minimize(loss, [0,0], method='Nelder-Mead', tol=1e-15)\n",
    "    popt=res.x\n",
    "    #print(\"OPTIMAL PARAM:\",popt)\n",
    "    return popt"
   ]
  },
  {
   "cell_type": "code",
   "execution_count": null,
   "metadata": {},
   "outputs": [],
   "source": [
    "def loss(p):\n",
    "    w = p[0]\n",
    "    b = p[1]\n",
    "    sum_ = 0       \n",
    "    global x_train, y_train\n",
    "    pred = w*x_train + b\n",
    "    for i in range (len(x_train)):\n",
    "        squared_diff =  (y_train[i] - pred[i])**2\n",
    "        sum_ = sum_ + squared_diff\n",
    "    MSE = sum_\n",
    "    #/len(x_train)\n",
    "    return MSE      \n"
   ]
  },
  {
   "cell_type": "code",
   "execution_count": 23,
   "metadata": {},
   "outputs": [
    {
     "data": {
      "text/plain": [
       "array([ 8.87606127, -1.63126005])"
      ]
     },
     "execution_count": 23,
     "metadata": {},
     "output_type": "execute_result"
    }
   ],
   "source": [
    "opt()"
   ]
  }
 ],
 "metadata": {
  "kernelspec": {
   "display_name": "Python 3",
   "language": "python",
   "name": "python3"
  },
  "language_info": {
   "codemirror_mode": {
    "name": "ipython",
    "version": 3
   },
   "file_extension": ".py",
   "mimetype": "text/x-python",
   "name": "python",
   "nbconvert_exporter": "python",
   "pygments_lexer": "ipython3",
   "version": "3.8.3"
  }
 },
 "nbformat": 4,
 "nbformat_minor": 4
}

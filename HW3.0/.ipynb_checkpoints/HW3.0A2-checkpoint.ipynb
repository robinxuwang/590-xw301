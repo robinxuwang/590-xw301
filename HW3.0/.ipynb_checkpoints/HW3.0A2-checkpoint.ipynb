{
 "cells": [
  {
   "cell_type": "code",
   "execution_count": 1,
   "metadata": {},
   "outputs": [],
   "source": [
    "from keras.datasets import imdb\n",
    "(train_data, train_labels), (test_data, test_labels) = imdb.load_data(num_words=10000)"
   ]
  },
  {
   "cell_type": "code",
   "execution_count": 2,
   "metadata": {},
   "outputs": [
    {
     "data": {
      "text/plain": [
       "\"? this film was just brilliant casting location scenery story direction everyone's really suited the part they played and you could just imagine being there robert ? is an amazing actor and now the same being director ? father came from the same scottish island as myself so i loved the fact there was a real connection with this film the witty remarks throughout the film were great it was just brilliant so much that i bought the film as soon as it was released for ? and would recommend it to everyone to watch and the fly fishing was amazing really cried at the end it was so sad and you know what they say if you cry at a film it must have been good and this definitely was also ? to the two little boy's that played the ? of norman and paul they were just brilliant children are often left out of the ? list i think because the stars that play them all grown up are such a big profile for the whole film but these children are amazing and should be praised for what they have done don't you think the whole story was so lovely because it was true and was someone's life after all that was shared with us all\""
      ]
     },
     "execution_count": 2,
     "metadata": {},
     "output_type": "execute_result"
    }
   ],
   "source": [
    "#Decode a review back to English words\n",
    "\n",
    "# step 1: load the dictionary mappings from word to integer index\n",
    "word_index = imdb.get_word_index()\n",
    "\n",
    "# step 2: reverse word index to map integer indexes to their respective words\n",
    "reverse_word_index = dict([(value, key) for (key, value) in word_index.items()])\n",
    "\n",
    "# Step 3: decode the review, mapping integer indices to words\n",
    "#\n",
    "# indices are off by 3 because 0, 1, and 2 are reserverd indices for \"padding\", \"Start of sequence\" and \"unknown\"\n",
    "decoded_review = ' '.join([reverse_word_index.get(i-3, '?') for i in train_data[0]])\n",
    "\n",
    "decoded_review"
   ]
  },
  {
   "cell_type": "code",
   "execution_count": 3,
   "metadata": {},
   "outputs": [],
   "source": [
    "#vecctorize the data\n",
    "import numpy as np\n",
    "\n",
    "def vectorize_sequences(sequences, dimension=10000):\n",
    "    results = np.zeros((len(sequences), dimension))    # Creates an all zero matrix of shape (len(sequences),10K)\n",
    "    for i,sequence in enumerate(sequences):\n",
    "        results[i,sequence] = 1                        # Sets specific indices of results[i] to 1s\n",
    "    return results\n",
    "\n",
    "# Vectorize training Data\n",
    "x_train = vectorize_sequences(train_data)\n",
    "\n",
    "# Vectorize testing Data\n",
    "x_test = vectorize_sequences(test_data)"
   ]
  },
  {
   "cell_type": "code",
   "execution_count": 4,
   "metadata": {},
   "outputs": [],
   "source": [
    "#vectorize labels\n",
    "y_train = np.asarray(train_labels).astype('float32')\n",
    "y_test  = np.asarray(test_labels).astype('float32')"
   ]
  },
  {
   "cell_type": "code",
   "execution_count": 19,
   "metadata": {},
   "outputs": [],
   "source": [
    "#Model definition\n",
    "from keras import models\n",
    "from keras import layers\n",
    "from tensorflow.keras import regularizers\n",
    "\n",
    "model = models.Sequential()\n",
    "model.add(layers.Dense(16, activation='relu', input_shape=(10000,), kernel_regularizer=regularizers.l1_l2(l1=0.1, l2=0.01)))\n",
    "model.add(layers.Dense(16, activation='relu', kernel_regularizer=regularizers.l1_l2(l1=0.1, l2=0.01)))\n",
    "model.add(layers.Dense(1, activation='sigmoid'))"
   ]
  },
  {
   "cell_type": "code",
   "execution_count": 20,
   "metadata": {},
   "outputs": [],
   "source": [
    "#compile model\n",
    "model.compile(optimizer='rmsprop',\n",
    "              loss = 'binary_crossentropy',\n",
    "              metrics = ['accuracy'])"
   ]
  },
  {
   "cell_type": "code",
   "execution_count": 21,
   "metadata": {},
   "outputs": [
    {
     "name": "stderr",
     "output_type": "stream",
     "text": [
      "/opt/anaconda3/lib/python3.8/site-packages/keras/optimizer_v2/optimizer_v2.py:355: UserWarning: The `lr` argument is deprecated, use `learning_rate` instead.\n",
      "  warnings.warn(\n"
     ]
    }
   ],
   "source": [
    "#configure the optimizer\n",
    "from tensorflow.keras import optimizers\n",
    "model.compile(optimizer=optimizers.RMSprop(lr=0.001),\n",
    "              loss='binary_crossentropy',\n",
    "              metrics=['accuracy'])"
   ]
  },
  {
   "cell_type": "code",
   "execution_count": 22,
   "metadata": {},
   "outputs": [],
   "source": [
    "#Use custom losses and metrics\n",
    "from keras import losses\n",
    "from keras import metrics\n",
    "model.compile(optimizer=optimizers.RMSprop(lr=0.001),\n",
    "              loss=losses.binary_crossentropy,\n",
    "              metrics=[metrics.binary_accuracy])"
   ]
  },
  {
   "cell_type": "code",
   "execution_count": 23,
   "metadata": {},
   "outputs": [],
   "source": [
    "#set up validation\n",
    "# Input for Validation\n",
    "x_val = x_train[:10000]\n",
    "partial_x_train = x_train[10000:]\n",
    "\n",
    "# Labels for validation\n",
    "y_val = y_train[:10000]\n",
    "partial_y_train = y_train[10000:]"
   ]
  },
  {
   "cell_type": "code",
   "execution_count": 24,
   "metadata": {},
   "outputs": [
    {
     "name": "stdout",
     "output_type": "stream",
     "text": [
      "Epoch 1/20\n",
      "30/30 [==============================] - 2s 39ms/step - loss: 42.6945 - acc: 0.4924 - val_loss: 13.2594 - val_acc: 0.4945\n",
      "Epoch 2/20\n",
      "30/30 [==============================] - 0s 14ms/step - loss: 12.9776 - acc: 0.5035 - val_loss: 12.3999 - val_acc: 0.4947\n",
      "Epoch 3/20\n",
      "30/30 [==============================] - 0s 14ms/step - loss: 12.2520 - acc: 0.5035 - val_loss: 11.7566 - val_acc: 0.4947\n",
      "Epoch 4/20\n",
      "30/30 [==============================] - 0s 14ms/step - loss: 11.6362 - acc: 0.4991 - val_loss: 11.1709 - val_acc: 0.4947\n",
      "Epoch 5/20\n",
      "30/30 [==============================] - 0s 14ms/step - loss: 11.0774 - acc: 0.5041 - val_loss: 10.6482 - val_acc: 0.4947\n",
      "Epoch 6/20\n",
      "30/30 [==============================] - 0s 14ms/step - loss: 10.5869 - acc: 0.5035 - val_loss: 10.1973 - val_acc: 0.4947\n",
      "Epoch 7/20\n",
      "30/30 [==============================] - 0s 14ms/step - loss: 10.1699 - acc: 0.5035 - val_loss: 9.8145 - val_acc: 0.4947\n",
      "Epoch 8/20\n",
      "30/30 [==============================] - 0s 14ms/step - loss: 9.8112 - acc: 0.5035 - val_loss: 9.4858 - val_acc: 0.4947\n",
      "Epoch 9/20\n",
      "30/30 [==============================] - 0s 14ms/step - loss: 9.5063 - acc: 0.5035 - val_loss: 9.2073 - val_acc: 0.4947\n",
      "Epoch 10/20\n",
      "30/30 [==============================] - 0s 14ms/step - loss: 9.2506 - acc: 0.5035 - val_loss: 8.9758 - val_acc: 0.4947\n",
      "Epoch 11/20\n",
      "30/30 [==============================] - 0s 14ms/step - loss: 9.0363 - acc: 0.5035 - val_loss: 8.7853 - val_acc: 0.4947\n",
      "Epoch 12/20\n",
      "30/30 [==============================] - 0s 14ms/step - loss: 8.8709 - acc: 0.5035 - val_loss: 8.6541 - val_acc: 0.4947\n",
      "Epoch 13/20\n",
      "30/30 [==============================] - 0s 14ms/step - loss: 8.7671 - acc: 0.5035 - val_loss: 8.5792 - val_acc: 0.4947\n",
      "Epoch 14/20\n",
      "30/30 [==============================] - 0s 17ms/step - loss: 8.7128 - acc: 0.5025 - val_loss: 8.5516 - val_acc: 0.4947\n",
      "Epoch 15/20\n",
      "30/30 [==============================] - 0s 15ms/step - loss: 8.7025 - acc: 0.5035 - val_loss: 8.5523 - val_acc: 0.4947\n",
      "Epoch 16/20\n",
      "30/30 [==============================] - 0s 14ms/step - loss: 8.7025 - acc: 0.5035 - val_loss: 8.5532 - val_acc: 0.4947\n",
      "Epoch 17/20\n",
      "30/30 [==============================] - 0s 15ms/step - loss: 8.7025 - acc: 0.5035 - val_loss: 8.5541 - val_acc: 0.4947\n",
      "Epoch 18/20\n",
      "30/30 [==============================] - 1s 17ms/step - loss: 8.7025 - acc: 0.5035 - val_loss: 8.5549 - val_acc: 0.4947\n",
      "Epoch 19/20\n",
      "30/30 [==============================] - 0s 15ms/step - loss: 8.7025 - acc: 0.5035 - val_loss: 8.5558 - val_acc: 0.4947\n",
      "Epoch 20/20\n",
      "30/30 [==============================] - 0s 15ms/step - loss: 8.7026 - acc: 0.5035 - val_loss: 8.5566 - val_acc: 0.4947\n"
     ]
    }
   ],
   "source": [
    "#train the model \n",
    "model.compile(optimizer='rmsprop',\n",
    "              loss='binary_crossentropy',\n",
    "              metrics=['acc'])\n",
    "history = model.fit(partial_x_train,\n",
    "                    partial_y_train,\n",
    "                    epochs=20,\n",
    "                    batch_size=512,\n",
    "                    validation_data=(x_val, y_val))"
   ]
  },
  {
   "cell_type": "code",
   "execution_count": 12,
   "metadata": {},
   "outputs": [
    {
     "data": {
      "text/plain": [
       "dict_keys(['loss', 'acc', 'val_loss', 'val_acc'])"
      ]
     },
     "execution_count": 12,
     "metadata": {},
     "output_type": "execute_result"
    }
   ],
   "source": [
    "history_dict = history.history\n",
    "history_dict.keys()"
   ]
  },
  {
   "cell_type": "code",
   "execution_count": 13,
   "metadata": {},
   "outputs": [
    {
     "data": {
      "image/png": "[encoded data removed]",
      "text/plain": [
       "<Figure size 432x288 with 1 Axes>"
      ]
     },
     "metadata": {
      "needs_background": "light"
     },
     "output_type": "display_data"
    }
   ],
   "source": [
    "import matplotlib.pyplot as plt\n",
    "#plot training and validation loss\n",
    "loss_values = history_dict['loss']\n",
    "val_loss_values = history_dict['val_loss']\n",
    "\n",
    "epochs = range(1, len(loss_values) + 1)\n",
    "\n",
    "plt.plot(epochs, loss_values, 'bo', label=\"Training Loss\")\n",
    "plt.plot(epochs, val_loss_values, 'b', label=\"Validation Loss\")\n",
    "\n",
    "plt.title('Training and Validation Loss')\n",
    "plt.xlabel('Epochs')\n",
    "plt.ylabel('Loss Value')\n",
    "plt.legend()\n",
    "\n",
    "plt.show()"
   ]
  },
  {
   "cell_type": "code",
   "execution_count": 16,
   "metadata": {},
   "outputs": [
    {
     "data": {
      "image/png": "[encoded data removed]",
      "text/plain": [
       "<Figure size 432x288 with 1 Axes>"
      ]
     },
     "metadata": {
      "needs_background": "light"
     },
     "output_type": "display_data"
    }
   ],
   "source": [
    "#plot Training and Validation Accuracy\n",
    "\n",
    "acc_values = history_dict['acc']\n",
    "val_acc_values = history_dict['val_acc']\n",
    "\n",
    "epochs = range(1, len(loss_values) + 1)\n",
    "\n",
    "plt.plot(epochs, acc_values, 'ro', label=\"Training Accuracy\")\n",
    "plt.plot(epochs, val_acc_values, 'r', label=\"Validation Accuracy\")\n",
    "\n",
    "plt.title('Training and Validation Accuraccy')\n",
    "plt.xlabel('Epochs')\n",
    "plt.ylabel('Accuracy')\n",
    "plt.legend()\n",
    "\n",
    "plt.show()"
   ]
  },
  {
   "cell_type": "code",
   "execution_count": 25,
   "metadata": {},
   "outputs": [
    {
     "name": "stdout",
     "output_type": "stream",
     "text": [
      "Epoch 1/4\n",
      "49/49 [==============================] - 1s 9ms/step - loss: 30.9987 - accuracy: 0.4927\n",
      "Epoch 2/4\n",
      "49/49 [==============================] - 0s 9ms/step - loss: 12.2888 - accuracy: 0.4958\n",
      "Epoch 3/4\n",
      "49/49 [==============================] - 0s 9ms/step - loss: 11.3573 - accuracy: 0.4964\n",
      "Epoch 4/4\n",
      "49/49 [==============================] - 0s 9ms/step - loss: 10.5668 - accuracy: 0.4961\n",
      "782/782 [==============================] - 1s 793us/step - loss: 10.0275 - accuracy: 0.5000\n"
     ]
    }
   ],
   "source": [
    "#retrain the model\n",
    "model = models.Sequential()\n",
    "model.add(layers.Dense(16, activation='relu', input_shape=(10000,), kernel_regularizer=regularizers.l1_l2(l1=0.1, l2=0.01)))\n",
    "model.add(layers.Dense(16, activation='relu', kernel_regularizer=regularizers.l1_l2(l1=0.1, l2=0.01)))\n",
    "model.add(layers.Dense(1, activation='sigmoid'))\n",
    "model.compile(optimizer='rmsprop',\n",
    "              loss='binary_crossentropy',\n",
    "              metrics=['accuracy'])\n",
    "model.fit(x_train, y_train, epochs=4, batch_size=512)\n",
    "results = model.evaluate(x_test, y_test)"
   ]
  },
  {
   "cell_type": "code",
   "execution_count": null,
   "metadata": {},
   "outputs": [],
   "source": []
  }
 ],
 "metadata": {
  "kernelspec": {
   "display_name": "Python 3",
   "language": "python",
   "name": "python3"
  },
  "language_info": {
   "codemirror_mode": {
    "name": "ipython",
    "version": 3
   },
   "file_extension": ".py",
   "mimetype": "text/x-python",
   "name": "python",
   "nbconvert_exporter": "python",
   "pygments_lexer": "ipython3",
   "version": "3.7.6"
  }
 },
 "nbformat": 4,
 "nbformat_minor": 4
}
